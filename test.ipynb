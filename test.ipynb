{
 "cells": [
  {
   "cell_type": "code",
   "execution_count": 1,
   "metadata": {},
   "outputs": [],
   "source": [
    "from utils.file_utils import get_config\n",
    "from utils.dataset_utils import get_dataloader\n",
    "from utils.training_utils import parse_data, get_scene_vehicle_nums\n",
    "import torch\n",
    "config = get_config('./config.yaml')"
   ]
  },
  {
   "cell_type": "code",
   "execution_count": 2,
   "metadata": {},
   "outputs": [],
   "source": [
    "\n",
    "train_loader, val_loader, test_loader = get_dataloader(config)\n",
    "gpu_id = torch.cuda.current_device()\n",
    "for batch in train_loader:\n",
    "    ## if no vehicles in the batch, skip it\n",
    "    vehicle_nums_dic = get_scene_vehicle_nums(batch)\n",
    "    if vehicle_nums_dic['cur'] == 0:\n",
    "        print('No vehicles in the batch')\n",
    "        continue\n",
    "    input_dict, ground_truth_dict = parse_data(data=batch, gpu_id=gpu_id, config=config)\n",
    "    break\n",
    "    "
   ]
  },
  {
   "cell_type": "code",
   "execution_count": 3,
   "metadata": {},
   "outputs": [
    {
     "data": {
      "text/plain": [
       "dict_keys(['prv/state/his/timestamp', 'prv/state/his/x_position', 'prv/state/his/y_position', 'prv/state/his/x_velocity', 'prv/state/his/y_velocity', 'prv/state/his/yaw_angle', 'prv/state/his/occluded_occupancy_map', 'prv/state/his/observed_occupancy_map', 'prv/state/his/flow_map', 'cur/state/his/timestamp', 'cur/state/his/x_position', 'cur/state/his/y_position', 'cur/state/his/x_velocity', 'cur/state/his/y_velocity', 'cur/state/his/yaw_angle', 'cur/state/his/occluded_occupancy_map', 'cur/state/his/observed_occupancy_map', 'cur/state/his/flow_map', 'nxt/state/his/timestamp', 'nxt/state/his/x_position', 'nxt/state/his/y_position', 'nxt/state/his/x_velocity', 'nxt/state/his/y_velocity', 'nxt/state/his/yaw_angle', 'nxt/state/his/occluded_occupancy_map', 'nxt/state/his/observed_occupancy_map', 'nxt/state/his/flow_map', 'prv/meta/length', 'prv/meta/width', 'prv/meta/class', 'prv/meta/direction', 'cur/meta/length', 'cur/meta/width', 'cur/meta/class', 'cur/meta/direction', 'nxt/meta/length', 'nxt/meta/width', 'nxt/meta/class', 'nxt/meta/direction'])"
      ]
     },
     "execution_count": 3,
     "metadata": {},
     "output_type": "execute_result"
    }
   ],
   "source": [
    "input_dict.keys()"
   ]
  },
  {
   "cell_type": "code",
   "execution_count": 13,
   "metadata": {},
   "outputs": [
    {
     "data": {
      "text/plain": [
       "torch.Size([2, 2, 40])"
      ]
     },
     "execution_count": 13,
     "metadata": {},
     "output_type": "execute_result"
    }
   ],
   "source": []
  },
  {
   "cell_type": "code",
   "execution_count": 14,
   "metadata": {},
   "outputs": [
    {
     "name": "stdout",
     "output_type": "stream",
     "text": [
      "4\n",
      "6\n",
      "torch.Size([2, 4])\n",
      "torch.Size([2, 40, 12])\n"
     ]
    }
   ],
   "source": [
    "vector_features_list = ['cur/meta/length', 'cur/meta/width', 'cur/meta/class', 'cur/meta/direction']\n",
    "node_features_list = ['cur/state/his/timestamp', 'cur/state/his/x_position', 'cur/state/his/y_position', 'cur/state/his/x_velocity', 'cur/state/his/y_velocity', 'cur/state/his/yaw_angle',]\n",
    "vector_feature = torch.cat([torch.unsqueeze(input_dict[feature], dim=1) for feature in vector_features_list], dim=1)\n",
    "print(len(vector_features_list))\n",
    "print(len(node_features_list))\n",
    "node_feature = torch.cat([input_dict[feature].permute(0, 2, 1) for feature in node_features_list], dim=2)\n",
    "print(vector_feature.shape)\n",
    "print(node_feature.shape)"
   ]
  },
  {
   "cell_type": "code",
   "execution_count": 5,
   "metadata": {},
   "outputs": [],
   "source": [
    "from modules.SwinTransformerEncoder import SwinTransformerEncoder\n",
    "from modules.FlowGuidedMultiHeadSelfAttention import FlowGuidedMultiHeadSelfAttention\n",
    "occupancy_map = torch.randn((2,256,256,40))\n",
    "flow_map = torch.randn((2,256,256,40, 2))"
   ]
  },
  {
   "cell_type": "code",
   "execution_count": 7,
   "metadata": {},
   "outputs": [
    {
     "name": "stdout",
     "output_type": "stream",
     "text": [
      "torch.Size([2, 12, 256, 384])\n"
     ]
    }
   ],
   "source": [
    "\n",
    "swin = SwinTransformerEncoder(config=config)\n",
    "res = swin(occupancy_map=occupancy_map,flow_map=flow_map[:,:,:,-1,:], road_map=None)\n",
    "q = res[-1]\n",
    "fg_msa = FlowGuidedMultiHeadSelfAttention(config=config)\n",
    "res,pos,ref = fg_msa(q)\n",
    "\n",
    "q = res + q\n",
    "B, H, W, D = q.size()\n",
    "q = q.reshape(B, H*W, D)\n",
    "T = 12\n",
    "query = torch.repeat_interleave(torch.unsqueeze(q, dim=1),repeats=T,axis=1)\n",
    "ref = ref.reshape(B, T, H*W, D)\n",
    "query = ref + query\n",
    "print(query.shape)\n",
    "\n"
   ]
  },
  {
   "cell_type": "code",
   "execution_count": null,
   "metadata": {},
   "outputs": [],
   "source": []
  }
 ],
 "metadata": {
  "kernelspec": {
   "display_name": "MP_HG",
   "language": "python",
   "name": "python3"
  },
  "language_info": {
   "codemirror_mode": {
    "name": "ipython",
    "version": 3
   },
   "file_extension": ".py",
   "mimetype": "text/x-python",
   "name": "python",
   "nbconvert_exporter": "python",
   "pygments_lexer": "ipython3",
   "version": "3.10.14"
  }
 },
 "nbformat": 4,
 "nbformat_minor": 2
}
